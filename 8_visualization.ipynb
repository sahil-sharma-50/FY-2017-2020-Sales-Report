{
  "cells": [
    {
      "cell_type": "markdown",
      "metadata": {
        "id": "view-in-github",
        "colab_type": "text"
      },
      "source": [
        "<a href=\"https://colab.research.google.com/github/sahil-sharma-50/FY-2017-2020-Sales-Report/blob/master/8_visualization.ipynb\" target=\"_parent\"><img src=\"https://colab.research.google.com/assets/colab-badge.svg\" alt=\"Open In Colab\"/></a>"
      ]
    },
    {
      "cell_type": "markdown",
      "id": "ab7ea1f7",
      "metadata": {
        "pycharm": {
          "name": "#%% md\n"
        },
        "id": "ab7ea1f7"
      },
      "source": [
        "Fill in your github username and idm credentials below:"
      ]
    },
    {
      "cell_type": "code",
      "execution_count": 1,
      "id": "113f6c55",
      "metadata": {
        "pycharm": {
          "is_executing": true,
          "name": "#%%\n"
        },
        "vscode": {
          "languageId": "python"
        },
        "id": "113f6c55"
      },
      "outputs": [],
      "source": [
        "github_username = \"sahil-sharma-50\"\n",
        "idm_credentials = \"ka32qewe\""
      ]
    },
    {
      "cell_type": "markdown",
      "id": "3f72d321",
      "metadata": {
        "pycharm": {
          "name": "#%% md\n"
        },
        "id": "3f72d321"
      },
      "source": [
        "---"
      ]
    },
    {
      "cell_type": "markdown",
      "id": "755c6140-79ab-496f-9e79-71972edca5bc",
      "metadata": {
        "pycharm": {
          "name": "#%% md\n"
        },
        "id": "755c6140-79ab-496f-9e79-71972edca5bc"
      },
      "source": [
        "# **Applied Data Science in Medicine & Psychology - Assignment 8**\n",
        "## Visualization\n",
        "---\n",
        "### **General Setup and Submission**\n",
        "1. Save an editable copy of this notebook to your Google Drive ``File`` $\\rightarrow$ ``Save a copy in Drive`` and remove the automatically appended \"Copy of\" text. **Do not change the original file name**.\n",
        "2. Work on the assignment in the *copied* version of the notebook. Make sure that you **replace** all parts of the tasks indicated with *YOUR CODE HERE* and **raise NotImplementedError()** (otherwise this causes an error in your implementation) or *YOUR ANSWER HERE* with your solution.\n",
        "3. If you take a break during the implementation, you can save the current status of your work in your repository following the submission instructions below. When you continue working on the assignment, do this in the version of the notebook that you saved in your Google Drive (access from your Google Colab account) or your repository.\n",
        "4. After finishing the assignment submit your assignment as follows:\n",
        "    * Check that everything runs as expected. To do that select in the menubar ``Runtime`` $\\rightarrow$ ``Restart and run all``. This will clear all your local variables and runs your notebook from the beginning.\n",
        "    * Save your notebook, click ``File`` $\\rightarrow$ ``Save``\n",
        "    * Click ``File`` $\\rightarrow$ ``Save a copy in GitHub``\n",
        "    * Select ``digikolleg-data-science-psychology/8-visualization-<username>`` from the repository drop-down menu\n",
        "    * Type ``8_visualization.ipynb`` into the file path text box\n",
        "    * Optionally, you may enter a description into the \"Commit message\" text box (like: \"solved task 1\" or \"ready for grading\")\n",
        "    * Make sure that the \"Include a link to Colaboratory\" box is checked\n",
        "    * Press \"Ok\"\n",
        "    * A new tab or window should open up, displaying your submitted notebook within your GitHub repository\n",
        "\n",
        "Before the assignment deadline, you can re-submit your assignment as often as you would like. This will update your assignment file in your assignment's repository."
      ]
    },
    {
      "cell_type": "markdown",
      "id": "2fe61c2c-a030-4c02-8214-7db7d1c10df5",
      "metadata": {
        "id": "2fe61c2c-a030-4c02-8214-7db7d1c10df5"
      },
      "source": [
        "### **Assignment Description**\n",
        "In this assignment, you will dive into visualization using ``Matplotlib`` which is a library for creating static, animated, and interactive visualizations in Python. Visualization in data analysis is crucial because it allows us to understand and communicate complex information more effectively.\n",
        "#### **Assignment Goals**\n",
        "You are going to learn the following things in this assignment:\n",
        "1. how to create figures using matplotlib\n",
        "2. how to create different types of plots\n",
        "3. how to create multiple plots in the same figure\n",
        "4. how to add descriptive information to a figure\n",
        "5. how to enhance the appearance of data\n",
        "6. how to increase the comparability of data\n",
        "\n",
        "#### **Assignment Point Value**\n",
        "This assignment is worth a total (up to) **11** points. If your code passes all of the manual and automatic tests you will receive full credit."
      ]
    },
    {
      "cell_type": "markdown",
      "id": "89d2a637-e274-43a8-a88a-23bb204e96db",
      "metadata": {
        "id": "89d2a637-e274-43a8-a88a-23bb204e96db"
      },
      "source": [
        "### **Tasks**\n",
        "Make sure that you now work on your *copied* version of this assignment's notebook."
      ]
    },
    {
      "cell_type": "markdown",
      "id": "42e90337-1130-4412-b037-d1267bc45101",
      "metadata": {
        "id": "42e90337-1130-4412-b037-d1267bc45101"
      },
      "source": [
        "#### 0. Imports and Setup\n",
        "Please **run** the cell below to import the libraries needed for this assignment."
      ]
    },
    {
      "cell_type": "code",
      "execution_count": 2,
      "id": "23f1cef0-5d30-4548-b6b6-4020b3013f8c",
      "metadata": {
        "id": "23f1cef0-5d30-4548-b6b6-4020b3013f8c",
        "colab": {
          "base_uri": "https://localhost:8080/"
        },
        "outputId": "ef84030e-239b-44b6-ffa8-6c7f9d6aa24d"
      },
      "outputs": [
        {
          "output_type": "stream",
          "name": "stdout",
          "text": [
            "Requirement already satisfied: biopsykit in /usr/local/lib/python3.11/dist-packages (0.13.1)\n",
            "Requirement already satisfied: bioread<4,>=3 in /usr/local/lib/python3.11/dist-packages (from biopsykit) (3.1.0)\n",
            "Requirement already satisfied: fau-colors~=1.1 in /usr/local/lib/python3.11/dist-packages (from biopsykit) (1.10.1)\n",
            "Requirement already satisfied: joblib<2,>=1 in /usr/local/lib/python3.11/dist-packages (from biopsykit) (1.5.1)\n",
            "Requirement already satisfied: matplotlib~=3.9 in /usr/local/lib/python3.11/dist-packages (from biopsykit) (3.10.0)\n",
            "Requirement already satisfied: neurokit2<0.2.11,>=0 in /usr/local/lib/python3.11/dist-packages (from biopsykit) (0.2.10)\n",
            "Requirement already satisfied: nilspodlib>=4.0.0 in /usr/local/lib/python3.11/dist-packages (from biopsykit) (4.1.1)\n",
            "Requirement already satisfied: numpy>=1.26 in /usr/local/lib/python3.11/dist-packages (from biopsykit) (2.3.1)\n",
            "Requirement already satisfied: openpyxl<4,>=3 in /usr/local/lib/python3.11/dist-packages (from biopsykit) (3.1.5)\n",
            "Requirement already satisfied: pandas<3,>=2 in /usr/local/lib/python3.11/dist-packages (from biopsykit) (2.2.2)\n",
            "Requirement already satisfied: pingouin<0.6,>=0.5.2 in /usr/local/lib/python3.11/dist-packages (from biopsykit) (0.5.5)\n",
            "Requirement already satisfied: scikit-learn~=1.0 in /usr/local/lib/python3.11/dist-packages (from biopsykit) (1.6.1)\n",
            "Requirement already satisfied: scipy<2,>=1 in /usr/local/lib/python3.11/dist-packages (from biopsykit) (1.15.3)\n",
            "Requirement already satisfied: seaborn<1,>=0 in /usr/local/lib/python3.11/dist-packages (from biopsykit) (0.13.2)\n",
            "Requirement already satisfied: statannotations<0.8,>=0.7.1 in /usr/local/lib/python3.11/dist-packages (from biopsykit) (0.7.2)\n",
            "Requirement already satisfied: statsmodels<1,>=0 in /usr/local/lib/python3.11/dist-packages (from biopsykit) (0.14.5)\n",
            "Requirement already satisfied: tpcp>=1 in /usr/local/lib/python3.11/dist-packages (from biopsykit) (2.0.0)\n",
            "Requirement already satisfied: tqdm<5,>=4 in /usr/local/lib/python3.11/dist-packages (from biopsykit) (4.67.1)\n",
            "Requirement already satisfied: ts2vg<2,>=1.2.4 in /usr/local/lib/python3.11/dist-packages (from biopsykit) (1.2.4)\n",
            "Requirement already satisfied: xlrd<3,>=2 in /usr/local/lib/python3.11/dist-packages (from biopsykit) (2.0.2)\n",
            "Requirement already satisfied: xlsxwriter<2,>=1 in /usr/local/lib/python3.11/dist-packages (from biopsykit) (1.4.5)\n",
            "Requirement already satisfied: docopt>=0.6.1 in /usr/local/lib/python3.11/dist-packages (from bioread<4,>=3->biopsykit) (0.6.2)\n",
            "Requirement already satisfied: pytest>=8.3.4 in /usr/local/lib/python3.11/dist-packages (from bioread<4,>=3->biopsykit) (8.3.5)\n",
            "Requirement already satisfied: contourpy>=1.0.1 in /usr/local/lib/python3.11/dist-packages (from matplotlib~=3.9->biopsykit) (1.3.2)\n",
            "Requirement already satisfied: cycler>=0.10 in /usr/local/lib/python3.11/dist-packages (from matplotlib~=3.9->biopsykit) (0.12.1)\n",
            "Requirement already satisfied: fonttools>=4.22.0 in /usr/local/lib/python3.11/dist-packages (from matplotlib~=3.9->biopsykit) (4.58.5)\n",
            "Requirement already satisfied: kiwisolver>=1.3.1 in /usr/local/lib/python3.11/dist-packages (from matplotlib~=3.9->biopsykit) (1.4.8)\n",
            "Requirement already satisfied: packaging>=20.0 in /usr/local/lib/python3.11/dist-packages (from matplotlib~=3.9->biopsykit) (25.0)\n",
            "Requirement already satisfied: pillow>=8 in /usr/local/lib/python3.11/dist-packages (from matplotlib~=3.9->biopsykit) (11.3.0)\n",
            "Requirement already satisfied: pyparsing>=2.3.1 in /usr/local/lib/python3.11/dist-packages (from matplotlib~=3.9->biopsykit) (3.2.3)\n",
            "Requirement already satisfied: python-dateutil>=2.7 in /usr/local/lib/python3.11/dist-packages (from matplotlib~=3.9->biopsykit) (2.9.0.post0)\n",
            "Requirement already satisfied: requests in /usr/local/lib/python3.11/dist-packages (from neurokit2<0.2.11,>=0->biopsykit) (2.32.3)\n",
            "Requirement already satisfied: imucal>=2.0.0 in /usr/local/lib/python3.11/dist-packages (from nilspodlib>=4.0.0->biopsykit) (2.6.0)\n",
            "Requirement already satisfied: typing-extensions>=4.3.0 in /usr/local/lib/python3.11/dist-packages (from nilspodlib>=4.0.0->biopsykit) (4.14.1)\n",
            "Requirement already satisfied: et-xmlfile in /usr/local/lib/python3.11/dist-packages (from openpyxl<4,>=3->biopsykit) (2.0.0)\n",
            "Requirement already satisfied: pytz>=2020.1 in /usr/local/lib/python3.11/dist-packages (from pandas<3,>=2->biopsykit) (2025.2)\n",
            "Requirement already satisfied: tzdata>=2022.7 in /usr/local/lib/python3.11/dist-packages (from pandas<3,>=2->biopsykit) (2025.2)\n",
            "Requirement already satisfied: pandas-flavor in /usr/local/lib/python3.11/dist-packages (from pingouin<0.6,>=0.5.2->biopsykit) (0.7.0)\n",
            "Requirement already satisfied: tabulate in /usr/local/lib/python3.11/dist-packages (from pingouin<0.6,>=0.5.2->biopsykit) (0.9.0)\n",
            "Requirement already satisfied: threadpoolctl>=3.1.0 in /usr/local/lib/python3.11/dist-packages (from scikit-learn~=1.0->biopsykit) (3.6.0)\n",
            "Requirement already satisfied: patsy>=0.5.6 in /usr/local/lib/python3.11/dist-packages (from statsmodels<1,>=0->biopsykit) (1.0.1)\n",
            "Requirement already satisfied: iniconfig in /usr/local/lib/python3.11/dist-packages (from pytest>=8.3.4->bioread<4,>=3->biopsykit) (2.1.0)\n",
            "Requirement already satisfied: pluggy<2,>=1.5 in /usr/local/lib/python3.11/dist-packages (from pytest>=8.3.4->bioread<4,>=3->biopsykit) (1.6.0)\n",
            "Requirement already satisfied: six>=1.5 in /usr/local/lib/python3.11/dist-packages (from python-dateutil>=2.7->matplotlib~=3.9->biopsykit) (1.17.0)\n",
            "Requirement already satisfied: xarray in /usr/local/lib/python3.11/dist-packages (from pandas-flavor->pingouin<0.6,>=0.5.2->biopsykit) (2025.7.1)\n",
            "Requirement already satisfied: charset-normalizer<4,>=2 in /usr/local/lib/python3.11/dist-packages (from requests->neurokit2<0.2.11,>=0->biopsykit) (3.4.2)\n",
            "Requirement already satisfied: idna<4,>=2.5 in /usr/local/lib/python3.11/dist-packages (from requests->neurokit2<0.2.11,>=0->biopsykit) (3.10)\n",
            "Requirement already satisfied: urllib3<3,>=1.21.1 in /usr/local/lib/python3.11/dist-packages (from requests->neurokit2<0.2.11,>=0->biopsykit) (2.4.0)\n",
            "Requirement already satisfied: certifi>=2017.4.17 in /usr/local/lib/python3.11/dist-packages (from requests->neurokit2<0.2.11,>=0->biopsykit) (2025.7.9)\n",
            "Collecting ipympl\n",
            "  Downloading ipympl-0.9.7-py3-none-any.whl.metadata (8.7 kB)\n",
            "Requirement already satisfied: ipython<10 in /usr/local/lib/python3.11/dist-packages (from ipympl) (7.34.0)\n",
            "Requirement already satisfied: ipywidgets<9,>=7.6.0 in /usr/local/lib/python3.11/dist-packages (from ipympl) (7.7.1)\n",
            "Requirement already satisfied: matplotlib<4,>=3.5.0 in /usr/local/lib/python3.11/dist-packages (from ipympl) (3.10.0)\n",
            "Requirement already satisfied: numpy in /usr/local/lib/python3.11/dist-packages (from ipympl) (2.3.1)\n",
            "Requirement already satisfied: pillow in /usr/local/lib/python3.11/dist-packages (from ipympl) (11.3.0)\n",
            "Requirement already satisfied: traitlets<6 in /usr/local/lib/python3.11/dist-packages (from ipympl) (5.7.1)\n",
            "Requirement already satisfied: setuptools>=18.5 in /usr/local/lib/python3.11/dist-packages (from ipython<10->ipympl) (75.2.0)\n",
            "Collecting jedi>=0.16 (from ipython<10->ipympl)\n",
            "  Downloading jedi-0.19.2-py2.py3-none-any.whl.metadata (22 kB)\n",
            "Requirement already satisfied: decorator in /usr/local/lib/python3.11/dist-packages (from ipython<10->ipympl) (5.2.1)\n",
            "Requirement already satisfied: pickleshare in /usr/local/lib/python3.11/dist-packages (from ipython<10->ipympl) (0.7.5)\n",
            "Requirement already satisfied: prompt-toolkit!=3.0.0,!=3.0.1,<3.1.0,>=2.0.0 in /usr/local/lib/python3.11/dist-packages (from ipython<10->ipympl) (3.0.51)\n",
            "Requirement already satisfied: pygments in /usr/local/lib/python3.11/dist-packages (from ipython<10->ipympl) (2.19.2)\n",
            "Requirement already satisfied: backcall in /usr/local/lib/python3.11/dist-packages (from ipython<10->ipympl) (0.2.0)\n",
            "Requirement already satisfied: matplotlib-inline in /usr/local/lib/python3.11/dist-packages (from ipython<10->ipympl) (0.1.7)\n",
            "Requirement already satisfied: pexpect>4.3 in /usr/local/lib/python3.11/dist-packages (from ipython<10->ipympl) (4.9.0)\n",
            "Requirement already satisfied: ipykernel>=4.5.1 in /usr/local/lib/python3.11/dist-packages (from ipywidgets<9,>=7.6.0->ipympl) (6.17.1)\n",
            "Requirement already satisfied: ipython-genutils~=0.2.0 in /usr/local/lib/python3.11/dist-packages (from ipywidgets<9,>=7.6.0->ipympl) (0.2.0)\n",
            "Requirement already satisfied: widgetsnbextension~=3.6.0 in /usr/local/lib/python3.11/dist-packages (from ipywidgets<9,>=7.6.0->ipympl) (3.6.10)\n",
            "Requirement already satisfied: jupyterlab-widgets>=1.0.0 in /usr/local/lib/python3.11/dist-packages (from ipywidgets<9,>=7.6.0->ipympl) (3.0.15)\n",
            "Requirement already satisfied: contourpy>=1.0.1 in /usr/local/lib/python3.11/dist-packages (from matplotlib<4,>=3.5.0->ipympl) (1.3.2)\n",
            "Requirement already satisfied: cycler>=0.10 in /usr/local/lib/python3.11/dist-packages (from matplotlib<4,>=3.5.0->ipympl) (0.12.1)\n",
            "Requirement already satisfied: fonttools>=4.22.0 in /usr/local/lib/python3.11/dist-packages (from matplotlib<4,>=3.5.0->ipympl) (4.58.5)\n",
            "Requirement already satisfied: kiwisolver>=1.3.1 in /usr/local/lib/python3.11/dist-packages (from matplotlib<4,>=3.5.0->ipympl) (1.4.8)\n",
            "Requirement already satisfied: packaging>=20.0 in /usr/local/lib/python3.11/dist-packages (from matplotlib<4,>=3.5.0->ipympl) (25.0)\n",
            "Requirement already satisfied: pyparsing>=2.3.1 in /usr/local/lib/python3.11/dist-packages (from matplotlib<4,>=3.5.0->ipympl) (3.2.3)\n",
            "Requirement already satisfied: python-dateutil>=2.7 in /usr/local/lib/python3.11/dist-packages (from matplotlib<4,>=3.5.0->ipympl) (2.9.0.post0)\n",
            "Requirement already satisfied: debugpy>=1.0 in /usr/local/lib/python3.11/dist-packages (from ipykernel>=4.5.1->ipywidgets<9,>=7.6.0->ipympl) (1.8.0)\n",
            "Requirement already satisfied: jupyter-client>=6.1.12 in /usr/local/lib/python3.11/dist-packages (from ipykernel>=4.5.1->ipywidgets<9,>=7.6.0->ipympl) (6.1.12)\n",
            "Requirement already satisfied: nest-asyncio in /usr/local/lib/python3.11/dist-packages (from ipykernel>=4.5.1->ipywidgets<9,>=7.6.0->ipympl) (1.6.0)\n",
            "Requirement already satisfied: psutil in /usr/local/lib/python3.11/dist-packages (from ipykernel>=4.5.1->ipywidgets<9,>=7.6.0->ipympl) (5.9.5)\n",
            "Requirement already satisfied: pyzmq>=17 in /usr/local/lib/python3.11/dist-packages (from ipykernel>=4.5.1->ipywidgets<9,>=7.6.0->ipympl) (24.0.1)\n",
            "Requirement already satisfied: tornado>=6.1 in /usr/local/lib/python3.11/dist-packages (from ipykernel>=4.5.1->ipywidgets<9,>=7.6.0->ipympl) (6.4.2)\n",
            "Requirement already satisfied: parso<0.9.0,>=0.8.4 in /usr/local/lib/python3.11/dist-packages (from jedi>=0.16->ipython<10->ipympl) (0.8.4)\n",
            "Requirement already satisfied: ptyprocess>=0.5 in /usr/local/lib/python3.11/dist-packages (from pexpect>4.3->ipython<10->ipympl) (0.7.0)\n",
            "Requirement already satisfied: wcwidth in /usr/local/lib/python3.11/dist-packages (from prompt-toolkit!=3.0.0,!=3.0.1,<3.1.0,>=2.0.0->ipython<10->ipympl) (0.2.13)\n",
            "Requirement already satisfied: six>=1.5 in /usr/local/lib/python3.11/dist-packages (from python-dateutil>=2.7->matplotlib<4,>=3.5.0->ipympl) (1.17.0)\n",
            "Requirement already satisfied: notebook>=4.4.1 in /usr/local/lib/python3.11/dist-packages (from widgetsnbextension~=3.6.0->ipywidgets<9,>=7.6.0->ipympl) (6.5.7)\n",
            "Requirement already satisfied: jupyter-core>=4.6.0 in /usr/local/lib/python3.11/dist-packages (from jupyter-client>=6.1.12->ipykernel>=4.5.1->ipywidgets<9,>=7.6.0->ipympl) (5.8.1)\n",
            "Requirement already satisfied: jinja2 in /usr/local/lib/python3.11/dist-packages (from notebook>=4.4.1->widgetsnbextension~=3.6.0->ipywidgets<9,>=7.6.0->ipympl) (3.1.6)\n",
            "Requirement already satisfied: argon2-cffi in /usr/local/lib/python3.11/dist-packages (from notebook>=4.4.1->widgetsnbextension~=3.6.0->ipywidgets<9,>=7.6.0->ipympl) (25.1.0)\n",
            "Requirement already satisfied: nbformat in /usr/local/lib/python3.11/dist-packages (from notebook>=4.4.1->widgetsnbextension~=3.6.0->ipywidgets<9,>=7.6.0->ipympl) (5.10.4)\n",
            "Requirement already satisfied: nbconvert>=5 in /usr/local/lib/python3.11/dist-packages (from notebook>=4.4.1->widgetsnbextension~=3.6.0->ipywidgets<9,>=7.6.0->ipympl) (7.16.6)\n",
            "Requirement already satisfied: Send2Trash>=1.8.0 in /usr/local/lib/python3.11/dist-packages (from notebook>=4.4.1->widgetsnbextension~=3.6.0->ipywidgets<9,>=7.6.0->ipympl) (1.8.3)\n",
            "Requirement already satisfied: terminado>=0.8.3 in /usr/local/lib/python3.11/dist-packages (from notebook>=4.4.1->widgetsnbextension~=3.6.0->ipywidgets<9,>=7.6.0->ipympl) (0.18.1)\n",
            "Requirement already satisfied: prometheus-client in /usr/local/lib/python3.11/dist-packages (from notebook>=4.4.1->widgetsnbextension~=3.6.0->ipywidgets<9,>=7.6.0->ipympl) (0.22.1)\n",
            "Requirement already satisfied: nbclassic>=0.4.7 in /usr/local/lib/python3.11/dist-packages (from notebook>=4.4.1->widgetsnbextension~=3.6.0->ipywidgets<9,>=7.6.0->ipympl) (1.3.1)\n",
            "Requirement already satisfied: platformdirs>=2.5 in /usr/local/lib/python3.11/dist-packages (from jupyter-core>=4.6.0->jupyter-client>=6.1.12->ipykernel>=4.5.1->ipywidgets<9,>=7.6.0->ipympl) (4.3.8)\n",
            "Requirement already satisfied: notebook-shim>=0.2.3 in /usr/local/lib/python3.11/dist-packages (from nbclassic>=0.4.7->notebook>=4.4.1->widgetsnbextension~=3.6.0->ipywidgets<9,>=7.6.0->ipympl) (0.2.4)\n",
            "Requirement already satisfied: beautifulsoup4 in /usr/local/lib/python3.11/dist-packages (from nbconvert>=5->notebook>=4.4.1->widgetsnbextension~=3.6.0->ipywidgets<9,>=7.6.0->ipympl) (4.13.4)\n",
            "Requirement already satisfied: bleach!=5.0.0 in /usr/local/lib/python3.11/dist-packages (from bleach[css]!=5.0.0->nbconvert>=5->notebook>=4.4.1->widgetsnbextension~=3.6.0->ipywidgets<9,>=7.6.0->ipympl) (6.2.0)\n",
            "Requirement already satisfied: defusedxml in /usr/local/lib/python3.11/dist-packages (from nbconvert>=5->notebook>=4.4.1->widgetsnbextension~=3.6.0->ipywidgets<9,>=7.6.0->ipympl) (0.7.1)\n",
            "Requirement already satisfied: jupyterlab-pygments in /usr/local/lib/python3.11/dist-packages (from nbconvert>=5->notebook>=4.4.1->widgetsnbextension~=3.6.0->ipywidgets<9,>=7.6.0->ipympl) (0.3.0)\n",
            "Requirement already satisfied: markupsafe>=2.0 in /usr/local/lib/python3.11/dist-packages (from nbconvert>=5->notebook>=4.4.1->widgetsnbextension~=3.6.0->ipywidgets<9,>=7.6.0->ipympl) (3.0.2)\n",
            "Requirement already satisfied: mistune<4,>=2.0.3 in /usr/local/lib/python3.11/dist-packages (from nbconvert>=5->notebook>=4.4.1->widgetsnbextension~=3.6.0->ipywidgets<9,>=7.6.0->ipympl) (3.1.3)\n",
            "Requirement already satisfied: nbclient>=0.5.0 in /usr/local/lib/python3.11/dist-packages (from nbconvert>=5->notebook>=4.4.1->widgetsnbextension~=3.6.0->ipywidgets<9,>=7.6.0->ipympl) (0.10.2)\n",
            "Requirement already satisfied: pandocfilters>=1.4.1 in /usr/local/lib/python3.11/dist-packages (from nbconvert>=5->notebook>=4.4.1->widgetsnbextension~=3.6.0->ipywidgets<9,>=7.6.0->ipympl) (1.5.1)\n",
            "Requirement already satisfied: fastjsonschema>=2.15 in /usr/local/lib/python3.11/dist-packages (from nbformat->notebook>=4.4.1->widgetsnbextension~=3.6.0->ipywidgets<9,>=7.6.0->ipympl) (2.21.1)\n",
            "Requirement already satisfied: jsonschema>=2.6 in /usr/local/lib/python3.11/dist-packages (from nbformat->notebook>=4.4.1->widgetsnbextension~=3.6.0->ipywidgets<9,>=7.6.0->ipympl) (4.24.0)\n",
            "Requirement already satisfied: argon2-cffi-bindings in /usr/local/lib/python3.11/dist-packages (from argon2-cffi->notebook>=4.4.1->widgetsnbextension~=3.6.0->ipywidgets<9,>=7.6.0->ipympl) (21.2.0)\n",
            "Requirement already satisfied: webencodings in /usr/local/lib/python3.11/dist-packages (from bleach!=5.0.0->bleach[css]!=5.0.0->nbconvert>=5->notebook>=4.4.1->widgetsnbextension~=3.6.0->ipywidgets<9,>=7.6.0->ipympl) (0.5.1)\n",
            "Requirement already satisfied: tinycss2<1.5,>=1.1.0 in /usr/local/lib/python3.11/dist-packages (from bleach[css]!=5.0.0->nbconvert>=5->notebook>=4.4.1->widgetsnbextension~=3.6.0->ipywidgets<9,>=7.6.0->ipympl) (1.4.0)\n",
            "Requirement already satisfied: attrs>=22.2.0 in /usr/local/lib/python3.11/dist-packages (from jsonschema>=2.6->nbformat->notebook>=4.4.1->widgetsnbextension~=3.6.0->ipywidgets<9,>=7.6.0->ipympl) (25.3.0)\n",
            "Requirement already satisfied: jsonschema-specifications>=2023.03.6 in /usr/local/lib/python3.11/dist-packages (from jsonschema>=2.6->nbformat->notebook>=4.4.1->widgetsnbextension~=3.6.0->ipywidgets<9,>=7.6.0->ipympl) (2025.4.1)\n",
            "Requirement already satisfied: referencing>=0.28.4 in /usr/local/lib/python3.11/dist-packages (from jsonschema>=2.6->nbformat->notebook>=4.4.1->widgetsnbextension~=3.6.0->ipywidgets<9,>=7.6.0->ipympl) (0.36.2)\n",
            "Requirement already satisfied: rpds-py>=0.7.1 in /usr/local/lib/python3.11/dist-packages (from jsonschema>=2.6->nbformat->notebook>=4.4.1->widgetsnbextension~=3.6.0->ipywidgets<9,>=7.6.0->ipympl) (0.26.0)\n",
            "Requirement already satisfied: jupyter-server<3,>=1.8 in /usr/local/lib/python3.11/dist-packages (from notebook-shim>=0.2.3->nbclassic>=0.4.7->notebook>=4.4.1->widgetsnbextension~=3.6.0->ipywidgets<9,>=7.6.0->ipympl) (1.16.0)\n",
            "Requirement already satisfied: cffi>=1.0.1 in /usr/local/lib/python3.11/dist-packages (from argon2-cffi-bindings->argon2-cffi->notebook>=4.4.1->widgetsnbextension~=3.6.0->ipywidgets<9,>=7.6.0->ipympl) (1.17.1)\n",
            "Requirement already satisfied: soupsieve>1.2 in /usr/local/lib/python3.11/dist-packages (from beautifulsoup4->nbconvert>=5->notebook>=4.4.1->widgetsnbextension~=3.6.0->ipywidgets<9,>=7.6.0->ipympl) (2.7)\n",
            "Requirement already satisfied: typing-extensions>=4.0.0 in /usr/local/lib/python3.11/dist-packages (from beautifulsoup4->nbconvert>=5->notebook>=4.4.1->widgetsnbextension~=3.6.0->ipywidgets<9,>=7.6.0->ipympl) (4.14.1)\n",
            "Requirement already satisfied: pycparser in /usr/local/lib/python3.11/dist-packages (from cffi>=1.0.1->argon2-cffi-bindings->argon2-cffi->notebook>=4.4.1->widgetsnbextension~=3.6.0->ipywidgets<9,>=7.6.0->ipympl) (2.22)\n",
            "Requirement already satisfied: anyio>=3.1.0 in /usr/local/lib/python3.11/dist-packages (from jupyter-server<3,>=1.8->notebook-shim>=0.2.3->nbclassic>=0.4.7->notebook>=4.4.1->widgetsnbextension~=3.6.0->ipywidgets<9,>=7.6.0->ipympl) (4.9.0)\n",
            "Requirement already satisfied: websocket-client in /usr/local/lib/python3.11/dist-packages (from jupyter-server<3,>=1.8->notebook-shim>=0.2.3->nbclassic>=0.4.7->notebook>=4.4.1->widgetsnbextension~=3.6.0->ipywidgets<9,>=7.6.0->ipympl) (1.8.0)\n",
            "Requirement already satisfied: idna>=2.8 in /usr/local/lib/python3.11/dist-packages (from anyio>=3.1.0->jupyter-server<3,>=1.8->notebook-shim>=0.2.3->nbclassic>=0.4.7->notebook>=4.4.1->widgetsnbextension~=3.6.0->ipywidgets<9,>=7.6.0->ipympl) (3.10)\n",
            "Requirement already satisfied: sniffio>=1.1 in /usr/local/lib/python3.11/dist-packages (from anyio>=3.1.0->jupyter-server<3,>=1.8->notebook-shim>=0.2.3->nbclassic>=0.4.7->notebook>=4.4.1->widgetsnbextension~=3.6.0->ipywidgets<9,>=7.6.0->ipympl) (1.3.1)\n",
            "Downloading ipympl-0.9.7-py3-none-any.whl (515 kB)\n",
            "\u001b[2K   \u001b[90m━━━━━━━━━━━━━━━━━━━━━━━━━━━━━━━━━━━━━━━━\u001b[0m \u001b[32m515.7/515.7 kB\u001b[0m \u001b[31m11.1 MB/s\u001b[0m eta \u001b[36m0:00:00\u001b[0m\n",
            "\u001b[?25hDownloading jedi-0.19.2-py2.py3-none-any.whl (1.6 MB)\n",
            "\u001b[2K   \u001b[90m━━━━━━━━━━━━━━━━━━━━━━━━━━━━━━━━━━━━━━━━\u001b[0m \u001b[32m1.6/1.6 MB\u001b[0m \u001b[31m48.7 MB/s\u001b[0m eta \u001b[36m0:00:00\u001b[0m\n",
            "\u001b[?25hInstalling collected packages: jedi, ipympl\n",
            "Successfully installed ipympl-0.9.7 jedi-0.19.2\n"
          ]
        }
      ],
      "source": [
        "import matplotlib\n",
        "import matplotlib.pyplot as plt\n",
        "import numpy as np\n",
        "!pip install biopsykit\n",
        "import biopsykit as bp\n",
        "!pip install ipympl\n",
        "import neurokit2 as nk\n",
        "from scipy import stats\n",
        "\n",
        "from google.colab import output\n",
        "output.enable_custom_widget_manager()\n",
        "%matplotlib inline"
      ]
    },
    {
      "cell_type": "markdown",
      "id": "cf06b76a-1f23-4ffa-a550-f0bc4a05ad64",
      "metadata": {
        "id": "cf06b76a-1f23-4ffa-a550-f0bc4a05ad64"
      },
      "source": [
        "##### 0.1 Run the following cell to load the ECG data of two participants:\n",
        "* ``ecg_1``: ``numpy.ndarray`` containing all samples recorded from the ECG of participant 1\n",
        "* ``ecg_2``: ``numpy.ndarray`` containing all samples recorded from the ECG of participant 2\n",
        "* ``fs``: ``float`` number containing the sampling frequency of ``ecg_1`` and ``ecg_2``. In this case, ``fs`` is equal to 256.0 Hz which means that 256 ECG samples were taken in one second."
      ]
    },
    {
      "cell_type": "code",
      "execution_count": 3,
      "id": "f6073184-423d-43c1-a155-a2b2a7c62809",
      "metadata": {
        "tags": [],
        "id": "f6073184-423d-43c1-a155-a2b2a7c62809",
        "colab": {
          "base_uri": "https://localhost:8080/",
          "height": 116,
          "referenced_widgets": [
            "7cc83abf00f34531a33d57a16f220459",
            "2edc060343914dfb9ef3e9db42e8ea5d",
            "ea8eaefb91294646b3de06541a2a4c3d",
            "1eed1d4ff38f43b4a8d18f3be4fec677",
            "17fe67afc4d24e0a8604ca08339a8d58",
            "9d9c66d616594efdab9e996ba8dc3b0e",
            "2eddd83aa00a434e92f8f32e895fe2d3",
            "db49312749424ac6b6da14adcbeaef62",
            "798f70a9d1a54ef980888b5f134b551e",
            "11fed4a61d304d1f91c6a43e883384a5",
            "231bf287d2144420a71dca94c9b7afb4",
            "0646b3b4ddbb4a1c898abc2312ab43da",
            "d3ddb12444e445efb63ef675ee79e402",
            "6fd3bdae137f4a7fa8016dc67bf80c5b",
            "7bedf687535740df8d28738d3799d970",
            "03022eb5af5643e59015210302ebc9a9",
            "da5509d2894a45fab002e1b70af70ec2",
            "4f61cf1187514c7ca536a940a2ade999",
            "e5d29bc937304f7ebc2e28f1b6eb4086",
            "eee78b4d737c4e8a977d094624f17bd6",
            "c10bb826696044f99acfd81f0c8792ac",
            "3a8c8a81b17e443e8cadd357caedb522"
          ]
        },
        "outputId": "9f703880-9e59-4a2d-a040-3716ad5da792"
      },
      "outputs": [
        {
          "output_type": "stream",
          "name": "stdout",
          "text": [
            "Downloading file ecg/ecg_sample_Vp01.bin from remote URL: https://raw.githubusercontent.com/mad-lab-fau/BioPsyKit/main/example_data/ecg/ecg_sample_Vp01.bin.\n"
          ]
        },
        {
          "output_type": "display_data",
          "data": {
            "text/plain": [
              "ecg/ecg_sample_Vp01.bin: 0.00B [00:00, ?B/s]"
            ],
            "application/vnd.jupyter.widget-view+json": {
              "version_major": 2,
              "version_minor": 0,
              "model_id": "7cc83abf00f34531a33d57a16f220459"
            }
          },
          "metadata": {
            "application/vnd.jupyter.widget-view+json": {
              "colab": {
                "custom_widget_manager": {
                  "url": "https://ssl.gstatic.com/colaboratory-static/widgets/colab-cdn-widget-manager/2b70e893a8ba7c0f/manager.min.js"
                }
              }
            }
          }
        },
        {
          "output_type": "stream",
          "name": "stdout",
          "text": [
            "Downloading file ecg/ecg_sample_Vp02.bin from remote URL: https://raw.githubusercontent.com/mad-lab-fau/BioPsyKit/main/example_data/ecg/ecg_sample_Vp02.bin.\n"
          ]
        },
        {
          "output_type": "display_data",
          "data": {
            "text/plain": [
              "ecg/ecg_sample_Vp02.bin: 0.00B [00:00, ?B/s]"
            ],
            "application/vnd.jupyter.widget-view+json": {
              "version_major": 2,
              "version_minor": 0,
              "model_id": "3a8c8a81b17e443e8cadd357caedb522"
            }
          },
          "metadata": {
            "application/vnd.jupyter.widget-view+json": {
              "colab": {
                "custom_widget_manager": {
                  "url": "https://ssl.gstatic.com/colaboratory-static/widgets/colab-cdn-widget-manager/2b70e893a8ba7c0f/manager.min.js"
                }
              }
            }
          }
        }
      ],
      "source": [
        "# run this cell to load the data\n",
        "ecg_1, fs = bp.example_data.get_ecg_example()\n",
        "ecg_1 = ecg_1[\"ecg\"].to_numpy()\n",
        "ecg_2, _ = bp.example_data.get_ecg_example_02()\n",
        "ecg_2 = ecg_2[\"ecg\"].to_numpy()"
      ]
    },
    {
      "cell_type": "markdown",
      "id": "872ba7dc-f807-438f-8463-d66a684b2881",
      "metadata": {
        "id": "872ba7dc-f807-438f-8463-d66a684b2881"
      },
      "source": [
        "In the following, you will perform a step-by-step heart rate analysis based on the given ECGs ``ecg_1`` and ``ecg_2``. You will repeat some of the calculations performed in a similar way in earlier assignments and will visualize their outputs/results in between."
      ]
    },
    {
      "cell_type": "markdown",
      "id": "a8bb44dd-58fa-4793-bce0-a269e7d8c7e4",
      "metadata": {
        "id": "a8bb44dd-58fa-4793-bce0-a269e7d8c7e4"
      },
      "source": [
        "#### 1. Create a figure that visualizes ``ecg_1``. To do so:\n",
        "* Create a figure called ``fig`` using [matplotlib.pyplot.figure](https://matplotlib.org/stable/api/_as_gen/matplotlib.pyplot.figure.html) with size (8, 3)\n",
        "* Create a vector ``t`` that represents the time axis of ``ecg_1`` using [numpy.linspace](https://numpy.org/doc/stable/reference/generated/numpy.linspace.html) and ``fs``. ``t`` starts at 0 and should not include the endpoint.\n",
        "* Plot ``ecg_1`` over ``t``. Try out different parameters like [linestyle](https://matplotlib.org/stable/api/_as_gen/matplotlib.lines.Line2D.html#matplotlib.lines.Line2D.set_linestyle), [marker](https://matplotlib.org/stable/api/_as_gen/matplotlib.markers.MarkerStyle.html#matplotlib.markers.MarkerStyle), or [color](https://matplotlib.org/stable/gallery/color/named_colors.html) to change the signal appearance.\n",
        "* Set the x- and y-label as well as the title of the figure according to the data\n",
        "* If your figure is not visualized completely, you can also set the layout to be tight\n",
        "\n",
        "**Hints**: ``matplotlib.pyplot`` is already imported at the top. If you want to have a look at exemplary usage, you can check out this [matplotlib tutorial](https://matplotlib.org/stable/tutorials/introductory/pyplot.html). Also, this time we install ``ipympl`` which enables using the interactive features of ``matplotlib`` in notebooks. To use the features, move your cursor onto the figure, a tool bar appears and you can for example zoom into your figures."
      ]
    },
    {
      "cell_type": "code",
      "execution_count": 4,
      "id": "bb173adf-48cc-45e0-b400-2bbb554f22ea",
      "metadata": {
        "deletable": false,
        "nbgrader": {
          "cell_type": "code",
          "checksum": "aed26d8e255770a1f6ff48cf0fb1e44c",
          "grade": false,
          "grade_id": "task_1",
          "locked": false,
          "schema_version": 3,
          "solution": true,
          "task": false
        },
        "tags": [],
        "id": "bb173adf-48cc-45e0-b400-2bbb554f22ea",
        "colab": {
          "base_uri": "https://localhost:8080/",
          "height": 307
        },
        "outputId": "c34a5997-8516-4ca2-9686-f0f5a0ffc4c2"
      },
      "outputs": [
        {
          "output_type": "display_data",
          "data": {
            "text/plain": [
              "<Figure size 800x300 with 1 Axes>"
            ],
            "image/png": "[encoded data removed]"
          },
          "metadata": {}
        }
      ],
      "source": [
        "# YOUR CODE HERE\n",
        "# raise NotImplementedError()\n",
        "t = np.linspace(0, len(ecg_1) / fs, len(ecg_1), endpoint=False)\n",
        "fig = plt.figure(figsize=(8, 3))\n",
        "plt.plot(t, ecg_1, linestyle='-', color='blue', marker='o')\n",
        "plt.xlabel('Time [s]')\n",
        "plt.ylabel('Amplitude')\n",
        "plt.title('ECG Signal')\n",
        "plt.tight_layout()\n",
        "plt.show()"
      ]
    },
    {
      "cell_type": "code",
      "execution_count": 5,
      "id": "3277cbfb-6b13-48dc-bb40-b6ad4dfa377c",
      "metadata": {
        "deletable": false,
        "editable": false,
        "nbgrader": {
          "cell_type": "code",
          "checksum": "86d4698a44bf5416029a773447727b0a",
          "grade": true,
          "grade_id": "task_1_test",
          "locked": true,
          "points": 2,
          "schema_version": 3,
          "solution": false,
          "task": false
        },
        "tags": [],
        "id": "3277cbfb-6b13-48dc-bb40-b6ad4dfa377c"
      },
      "outputs": [],
      "source": [
        "# run cell to test your implementation\n",
        "assert len(t) == len(ecg_1), \"t must have the same length as ecg_1\"\n",
        "assert t[1] == 1 / fs and t[-1] == (len(ecg_1) - 1) / fs, \"Check that t is generated according to fs\"\n",
        "assert fig.get_figheight() == 3 and fig.get_figwidth() == 8, \"Check the size of the figure\"\n",
        "assert np.all(fig.axes[0].xaxis.get_data_interval() == np.array([0, 616.36328125])), \"Check that you plot the ecg over the time vector\"\n",
        "assert np.all(fig.axes[0].yaxis.get_data_interval() == np.array([-5010, 40364])), \"Check that you plot ecg_1\"\n",
        "assert len(fig.axes[0].get_xlabel()) != 0 and len(fig.axes[0].get_ylabel()) != 0, \"Check your x and y labels\"\n",
        "assert len(fig.axes[0].title.get_text()), \"Check the  figure's title\""
      ]
    },
    {
      "cell_type": "markdown",
      "id": "01d93c97-558c-4723-ac27-1f8ccd8f956c",
      "metadata": {
        "id": "01d93c97-558c-4723-ac27-1f8ccd8f956c"
      },
      "source": [
        "#### 2. Create a function ``extract_r_peaks`` which takes ``ecg`` and ``fs`` as parameters and calculates the R peaks of ``ecg``:\n",
        "* ``ecg``: ``numpy.ndarray`` containing the raw ECG data\n",
        "* ``fs``: sampling frequency of ``ecg``\n",
        "* Check if ``fs`` is of type ``int``. If not, convert it to ``int``.\n",
        "* Use the [NeuroKit.ecg_clean()](https://neuropsychology.github.io/NeuroKit/functions/ecg.html#neurokit2.ecg.ecg_clean) to remove noise and improve peak-detection accuracy. Use \"neurokit\" as ``method``.\n",
        "* Use [NeuroKit.ecg_peaks()](https://neuropsychology.github.io/NeuroKit/functions/ecg.html#ecg-peaks) to identify R peaks in the cleaned ECG version. Use \"neurokit\" as method.\n",
        "* The function should return the cleaned ecg and the array with R peak locations as samples (in this order) as tuple\n",
        "\n",
        "**Hint**: If a function has multiple return values but you are only interested in some of them you can ignore return values using a placeholder ``_`` (in the following example the second return value is ignored): ``val_1, _, val_3 = some_func()``"
      ]
    },
    {
      "cell_type": "code",
      "execution_count": 6,
      "id": "a8f07c2a-4c06-488f-a013-b31d35829c6b",
      "metadata": {
        "deletable": false,
        "nbgrader": {
          "cell_type": "code",
          "checksum": "1ae86f079c7d6e82fa01c4a661c1333e",
          "grade": false,
          "grade_id": "task_2",
          "locked": false,
          "schema_version": 3,
          "solution": true,
          "task": false
        },
        "tags": [],
        "id": "a8f07c2a-4c06-488f-a013-b31d35829c6b"
      },
      "outputs": [],
      "source": [
        "# YOUR CODE HERE\n",
        "# raise NotImplementedError()\n",
        "def extract_r_peaks(ecg, fs):\n",
        "  if not isinstance(fs, int):\n",
        "    fs = int(fs)\n",
        "  ecg_cleaned = nk.ecg_clean(ecg, sampling_rate=fs, method=\"neurokit\")\n",
        "  _, rpeaks = nk.ecg_peaks(ecg_cleaned, sampling_rate=fs, method=\"neurokit\")\n",
        "  return ecg_cleaned, rpeaks[\"ECG_R_Peaks\"]"
      ]
    },
    {
      "cell_type": "code",
      "execution_count": 7,
      "id": "fc060d99-fdf1-4f91-a45f-c677210fe530",
      "metadata": {
        "deletable": false,
        "editable": false,
        "nbgrader": {
          "cell_type": "code",
          "checksum": "1786e5ec384c01a0ae5a85d5e40e230c",
          "grade": true,
          "grade_id": "task_2_test",
          "locked": true,
          "points": 1,
          "schema_version": 3,
          "solution": false,
          "task": false
        },
        "tags": [],
        "id": "fc060d99-fdf1-4f91-a45f-c677210fe530"
      },
      "outputs": [],
      "source": [
        "# run cell to test your implementation\n",
        "test = extract_r_peaks(ecg_1, fs)\n",
        "assert type(test) == tuple, \"Check if you return a tuple of the cleaned ecg and the array with r peak locations\"\n",
        "assert np.max(ecg_1) > np.max(test[0]) and np.min(ecg_1) < np.min(test[0]), \"Check that you return the cleaned ecg and not the original ecg\"\n",
        "assert type(test[1]) == np.ndarray and np.shape(test[1]) == (876,), \"Check that you return only the array of r peak locations\"\n",
        "assert np.sum(test[1]) < 69896028, \"Check that you apply ecg_peaks() to the cleaned ecg\""
      ]
    },
    {
      "cell_type": "markdown",
      "id": "22d20c38-1ad3-4dad-ada6-0f8082316e1b",
      "metadata": {
        "tags": [],
        "id": "22d20c38-1ad3-4dad-ada6-0f8082316e1b"
      },
      "source": [
        "#### 3. Create a figure that visualizes ``ecg_1`` and its respective R peaks. To do so:\n",
        "* Create a figure called ``fig`` with an appropriate size\n",
        "* Plot the cleaned version of ``ecg_1`` over time\n",
        "* Mark every identified R peak with an individual marker. You can use for example [matplotlib.pyplot.scatter](https://matplotlib.org/stable/tutorials/introductory/pyplot.html) for this.\n",
        "* Add a legend to your figure such that the ECG and R peaks are identified. Check out what you have to change in your code when plotting the ECG and R peaks.\n",
        "* Set the x- and y-label as well as the title of the figure according to the data\n",
        "\n",
        "**Hint**: The function ``extract_r_peaks()`` returns an array of samples, indicating the specific sample positions where the R peaks were detected in the ECG."
      ]
    },
    {
      "cell_type": "code",
      "execution_count": 8,
      "id": "bfc37986-e918-42d4-8ae2-42000f13e3bd",
      "metadata": {
        "deletable": false,
        "nbgrader": {
          "cell_type": "code",
          "checksum": "d88d6070375f2107b90a7f85c4f7131b",
          "grade": false,
          "grade_id": "task_3",
          "locked": false,
          "schema_version": 3,
          "solution": true,
          "task": false
        },
        "tags": [],
        "id": "bfc37986-e918-42d4-8ae2-42000f13e3bd",
        "colab": {
          "base_uri": "https://localhost:8080/",
          "height": 407
        },
        "outputId": "1058a310-1fab-4b5c-dc47-56e9edb369a5"
      },
      "outputs": [
        {
          "output_type": "display_data",
          "data": {
            "text/plain": [
              "<Figure size 1000x400 with 1 Axes>"
            ],
            "image/png": "[encoded data removed]"
          },
          "metadata": {}
        }
      ],
      "source": [
        "# YOUR CODE HERE\n",
        "# raise NotImplementedError()\n",
        "ecg_cleaned, r_peaks = extract_r_peaks(ecg_1, fs)\n",
        "\n",
        "t = np.linspace(0, len(ecg_1) / fs, len(ecg_1), endpoint=False)\n",
        "\n",
        "fig = plt.figure(figsize=(10, 4))\n",
        "plt.plot(t, ecg_cleaned, label='Cleaned ECG', color='blue')\n",
        "plt.scatter(t[r_peaks], ecg_cleaned[r_peaks], color='red', label='R Peaks', marker='o')\n",
        "\n",
        "plt.xlabel('Time [s]')\n",
        "plt.ylabel('Amplitude')\n",
        "plt.title('ECG Signal with R Peaks')\n",
        "plt.legend()\n",
        "plt.tight_layout()\n",
        "plt.show()"
      ]
    },
    {
      "cell_type": "code",
      "execution_count": 9,
      "id": "b87b88cc-4969-4966-a515-3e0bb7f0859a",
      "metadata": {
        "deletable": false,
        "editable": false,
        "nbgrader": {
          "cell_type": "code",
          "checksum": "0d962894aff96a84b8b17d71a1b4be55",
          "grade": true,
          "grade_id": "task_3_test",
          "locked": true,
          "points": 2,
          "schema_version": 3,
          "solution": false,
          "task": false
        },
        "tags": [],
        "id": "b87b88cc-4969-4966-a515-3e0bb7f0859a"
      },
      "outputs": [],
      "source": [
        "# run cell to test your implementation\n",
        "assert np.all(fig.axes[0].xaxis.get_data_interval() == np.array([0, 616.36328125])), \"Check that you plot the ecg over the time vector\"\n",
        "assert fig.axes[0].yaxis.get_data_interval()[0] < -4100 and fig.axes[0].yaxis.get_data_interval()[1] > 30200, \"Check that you plot the cleaned version of ecg_1\"\n",
        "assert len([child for child in fig.axes[0].get_children() if type(child) == matplotlib.collections.PathCollection or type(child) == matplotlib.lines.Line2D]) >=2, \"Check if you visualized ecg and r peaks\"\n",
        "assert fig.axes[0].axes.get_legend() is not None, \"Check if you added a legend\"\n",
        "assert len(fig.axes[0].axes.get_legend().get_texts()) == 2, \"Check if you set a label for ecg and r peaks\"\n",
        "assert len(fig.axes[0].get_xlabel()) != 0 and len(fig.axes[0].get_ylabel()) != 0, \"Check your x and y labels\"\n",
        "assert len(fig.axes[0].title.get_text()), \"Check the  figure's title\""
      ]
    },
    {
      "cell_type": "markdown",
      "id": "9fbbd1a7-256e-4d48-b7af-d2faff0b383d",
      "metadata": {
        "tags": [],
        "id": "9fbbd1a7-256e-4d48-b7af-d2faff0b383d"
      },
      "source": [
        "#### 4. Create a function called ``calc_hr`` that takes ``r_peaks`` and ``fs`` as parameters and calculates the heart rate from ``r_peaks``:\n",
        "* ``r_peaks``: ``numpy.ndarray`` with R peak locations of an ecg as samples\n",
        "* ``fs``: sampling frequency of the ECG\n",
        "* The function should return an array containing the heart rate in beats per minute (bpm) for every RR interval individually"
      ]
    },
    {
      "cell_type": "code",
      "execution_count": 10,
      "id": "8f1d5006-3a7c-4246-b96f-74df40fcc4ef",
      "metadata": {
        "deletable": false,
        "nbgrader": {
          "cell_type": "code",
          "checksum": "43a058c48b06b57d8945cc16939c1cab",
          "grade": false,
          "grade_id": "task_4",
          "locked": false,
          "schema_version": 3,
          "solution": true,
          "task": false
        },
        "tags": [],
        "id": "8f1d5006-3a7c-4246-b96f-74df40fcc4ef"
      },
      "outputs": [],
      "source": [
        "# YOUR CODE HERE\n",
        "# raise NotImplementedError()\n",
        "def calc_hr(r_peaks, fs):\n",
        "  rr_intervals = np.diff(r_peaks) / fs\n",
        "  heart_rate = 60.0 / rr_intervals\n",
        "  return heart_rate"
      ]
    },
    {
      "cell_type": "code",
      "execution_count": 11,
      "id": "692bc87b-4f44-4748-a8c4-9040fa449500",
      "metadata": {
        "deletable": false,
        "editable": false,
        "nbgrader": {
          "cell_type": "code",
          "checksum": "23db3fd54bce078abf01397db9c49305",
          "grade": true,
          "grade_id": "task_4_test",
          "locked": true,
          "points": 1,
          "schema_version": 3,
          "solution": false,
          "task": false
        },
        "tags": [],
        "id": "692bc87b-4f44-4748-a8c4-9040fa449500"
      },
      "outputs": [],
      "source": [
        "# run cell to test your implementation\n",
        "_, r_peaks = extract_r_peaks(ecg_1, fs)\n",
        "hr = calc_hr(r_peaks, fs)\n",
        "assert type(hr) == np.ndarray, \"Check that you return an array of heart rates\"\n",
        "assert len(hr) == 875, \"Check that you calculate the heart rate for every rr interval\"\n",
        "assert np.mean(hr) > 84 and np.mean(hr) < 86, \"Check that you convert the heart rate into beats per minute\""
      ]
    },
    {
      "cell_type": "markdown",
      "id": "f3fbf3c5-3f78-4ae9-bba8-63fef01f8e7d",
      "metadata": {
        "id": "f3fbf3c5-3f78-4ae9-bba8-63fef01f8e7d"
      },
      "source": [
        "#### 5. Create a function ``correct_outlier`` that takes ``hr`` as parameter and eliminates the outliers of ``hr``:\n",
        "* ``hr``: ``numpy.ndarray`` containing the heart rate in beats per minute (bpm) for every RR interval individually\n",
        "* The function should return an array that includes only those elements of ``hr`` which are within 2 standard deviations from the mean"
      ]
    },
    {
      "cell_type": "code",
      "execution_count": 12,
      "id": "bbf79c39-d18b-4e35-9302-69a7acf5e8bc",
      "metadata": {
        "deletable": false,
        "nbgrader": {
          "cell_type": "code",
          "checksum": "d55cf67289db3ca6b1e7de05bfc72525",
          "grade": false,
          "grade_id": "task_5",
          "locked": false,
          "schema_version": 3,
          "solution": true,
          "task": false
        },
        "tags": [],
        "id": "bbf79c39-d18b-4e35-9302-69a7acf5e8bc"
      },
      "outputs": [],
      "source": [
        "# YOUR CODE HERE\n",
        "# raise NotImplementedError()\n",
        "def correct_outlier(hr):\n",
        "    mean_hr = np.mean(hr)\n",
        "    std_hr = np.std(hr)\n",
        "\n",
        "    lower_bound = mean_hr - 2.0 * std_hr\n",
        "    upper_bound = mean_hr + 2.0 * std_hr\n",
        "\n",
        "    filtered_hr = hr[(hr >= lower_bound) & (hr <= upper_bound)]\n",
        "\n",
        "    return filtered_hr"
      ]
    },
    {
      "cell_type": "code",
      "execution_count": 13,
      "id": "f57bc2bc-4e98-41b7-8d60-0d193e0bd6bb",
      "metadata": {
        "deletable": false,
        "editable": false,
        "nbgrader": {
          "cell_type": "code",
          "checksum": "cdf7aa958e3e670b36f24ae12865cd14",
          "grade": true,
          "grade_id": "task_5_test",
          "locked": true,
          "points": 1,
          "schema_version": 3,
          "solution": false,
          "task": false
        },
        "tags": [],
        "id": "f57bc2bc-4e98-41b7-8d60-0d193e0bd6bb"
      },
      "outputs": [],
      "source": [
        "# run cell to test your implementation\n",
        "_, r_peaks_1 = extract_r_peaks(ecg_1, fs)\n",
        "hr_1 = calc_hr(r_peaks_1, fs)\n",
        "hr_cleaned_1 = correct_outlier(hr_1)\n",
        "assert len(hr_cleaned_1) == 823, \"Check that you return an array which does not include the outliers\"\n",
        "assert np.max(hr_cleaned_1) < 102 and np.min(hr_cleaned_1) > 71, \"Check that you remove smaller and larger outliers\""
      ]
    },
    {
      "cell_type": "markdown",
      "id": "3e56ee69-081f-420f-aec0-118bb7a3e517",
      "metadata": {
        "id": "3e56ee69-081f-420f-aec0-118bb7a3e517"
      },
      "source": [
        "#### 6. Create a figure with two subplots that visualizes the heart rate **distribution** before and after outlier correction of ``ecg_1``. To do so:\n",
        "* Create a ``list`` called ``bins``which includes all values between 60 and 115 with stepsize 2 in between two consecutive numbers\n",
        "* Create a figure with appropriate size and two subplots next to each other using [matplotlib.pyplot.subplots](https://matplotlib.org/stable/api/_as_gen/matplotlib.pyplot.subplots.html). For easier usage afterward, save its return values in variables called ``fig`` and ``axs``.\n",
        "* Plot in the left subplot the histogram of the original heart rate distribution of ``ecg_1`` using ``bins``\n",
        "* Plot in the right subplot the histogram of the outlier corrected heart rate distribution of ``ecg_1`` using ``bins``\n",
        "* Set x- and y-axis labels as well as the titles for both subplots according to the data\n",
        "\n",
        "**Hint**: Check if the ``sharex`` and ``sharey`` parameters of [matplotlib.pyplot.subplots](https://matplotlib.org/stable/api/_as_gen/matplotlib.pyplot.subplots.html) can improve the comparability of your distributions."
      ]
    },
    {
      "cell_type": "code",
      "execution_count": 14,
      "id": "a5baccb8-b7b3-4100-8587-c70cd1d275c5",
      "metadata": {
        "deletable": false,
        "nbgrader": {
          "cell_type": "code",
          "checksum": "1045b2b7fcc6e0a1e36287b8dcbccda8",
          "grade": false,
          "grade_id": "task_6",
          "locked": false,
          "schema_version": 3,
          "solution": true,
          "task": false
        },
        "tags": [],
        "id": "a5baccb8-b7b3-4100-8587-c70cd1d275c5",
        "colab": {
          "base_uri": "https://localhost:8080/",
          "height": 512
        },
        "outputId": "a4aba256-81dc-46d2-cadb-9fd5467471dc"
      },
      "outputs": [
        {
          "output_type": "display_data",
          "data": {
            "text/plain": [
              "<Figure size 1200x500 with 2 Axes>"
            ],
            "image/png": "[encoded data removed]"
          },
          "metadata": {}
        }
      ],
      "source": [
        "# YOUR CODE HERE\n",
        "# raise NotImplementedError()\n",
        "bins = list(range(60, 116, 2))\n",
        "\n",
        "_, r_peaks_1 = extract_r_peaks(ecg_1, fs)\n",
        "hr_1 = calc_hr(r_peaks_1, fs)\n",
        "hr_cleaned_1 = correct_outlier(hr_1)\n",
        "\n",
        "fig, axs = plt.subplots(1, 2, figsize=(12, 5), sharex=True, sharey=True)\n",
        "\n",
        "axs[0].hist(ecg_1, bins=bins, color='skyblue', edgecolor='black')\n",
        "axs[0].set_title('Original HR Distribution')\n",
        "axs[0].set_xlabel('Heart Rate (bpm)')\n",
        "axs[0].set_ylabel('Frequency')\n",
        "\n",
        "axs[1].hist(hr_cleaned_1, bins=bins, color='lightgreen', edgecolor='black')\n",
        "axs[1].set_title('Corrected HR Distribution')\n",
        "axs[1].set_xlabel('Heart Rate (bpm)')\n",
        "axs[1].set_ylabel('Frequency')\n",
        "\n",
        "fig.suptitle('Heart Rate Distribution Before and After Outlier Removal')\n",
        "plt.tight_layout(rect=[0, 0, 1, 0.95])\n",
        "plt.show()"
      ]
    },
    {
      "cell_type": "code",
      "execution_count": 15,
      "id": "2ebf364d-8e33-402d-8d4c-ed39e3cfc3b7",
      "metadata": {
        "deletable": false,
        "editable": false,
        "nbgrader": {
          "cell_type": "code",
          "checksum": "14b6d77439488dc801eabc184f146efb",
          "grade": true,
          "grade_id": "task_6_test",
          "locked": true,
          "points": 2,
          "schema_version": 3,
          "solution": false,
          "task": false
        },
        "tags": [],
        "id": "2ebf364d-8e33-402d-8d4c-ed39e3cfc3b7"
      },
      "outputs": [],
      "source": [
        "# run cell to test your implementation\n",
        "assert len(bins) == 28 and bins[0] == 60 and bins[-1] == 114, \"Check your bin creation parameters and the endpoints\"\n",
        "assert len(fig.axes) == 2, \"Check that you created a figure with two subplots\"\n",
        "assert len([0 for child in fig.axes[0].get_children() + fig.axes[1].get_children() if type(child) == matplotlib.patches.Rectangle]) == 56, \"Check that you used the variable bins as the bins parameter\"\n",
        "val_1 = sum([child.get_height() for child in fig.axes[0].get_children()[:-1] if type(child) == matplotlib.patches.Rectangle])\n",
        "val_2 = sum([child.get_height() for child in fig.axes[1].get_children()[:-1] if type(child) == matplotlib.patches.Rectangle])\n",
        "assert val_1 != val_2, \"Check if you plot two different distributions\"\n",
        "assert len(fig.axes[0].get_xlabel()) != 0 and len(fig.axes[0].get_ylabel()) != 0, \"Check the left sublot's x and y labels\"\n",
        "assert len(fig.axes[1].get_xlabel()) != 0 and len(fig.axes[1].get_ylabel()) != 0, \"Check the right subplot's x and y labels\"\n",
        "assert len(fig.axes[0].title.get_text()), \"Check the left subplot's title\"\n",
        "assert len(fig.axes[1].title.get_text()), \"Check the right subplot's title\""
      ]
    },
    {
      "cell_type": "markdown",
      "id": "08badf8a-c47b-430d-8d04-24301d87dd67",
      "metadata": {
        "tags": [],
        "id": "08badf8a-c47b-430d-8d04-24301d87dd67"
      },
      "source": [
        "#### 7. Create a figure with two subplots that visualizes the heart rate distributions before and after outlier correction as box plots of ``ecg_1`` and ``ecg_2``. To do so:\n",
        "* Create a figure with appropriate size and two subplots next to each other. Save its return values in variables called ``fig`` and ``axs``.\n",
        "* Create in the left subplot two boxplots visualizing the original heart rate distributions of ``ecg_1`` and ``ecg_2``. Set the labels accordingly.\n",
        "* Create in the right subplot two boxplots visualizing the outlier corrected heart rate distributions of ``ecg_1`` and ``ecg_2``. Set the labels accordingly.\n",
        "* Set x- and y-axis labels as well as the titles for both subplots according to the data"
      ]
    },
    {
      "cell_type": "code",
      "execution_count": 16,
      "id": "14d62cfe-2395-4f28-a0e2-480c3720b678",
      "metadata": {
        "deletable": false,
        "nbgrader": {
          "cell_type": "code",
          "checksum": "c87090dc555cbe17b3cc3d2c7aa5bff5",
          "grade": false,
          "grade_id": "task_7",
          "locked": false,
          "schema_version": 3,
          "solution": true,
          "task": false
        },
        "tags": [],
        "id": "14d62cfe-2395-4f28-a0e2-480c3720b678",
        "colab": {
          "base_uri": "https://localhost:8080/",
          "height": 609
        },
        "outputId": "04212146-57b9-45da-9130-eb0881b80e91"
      },
      "outputs": [
        {
          "output_type": "display_data",
          "data": {
            "text/plain": [
              "<Figure size 1200x600 with 2 Axes>"
            ],
            "image/png": "[encoded data removed]"
          },
          "metadata": {}
        }
      ],
      "source": [
        "# YOUR CODE HERE\n",
        "# raise NotImplementedError()\n",
        "_, rpeaks_1 = extract_r_peaks(ecg_1, fs)\n",
        "_, rpeaks_2 = extract_r_peaks(ecg_2, fs)\n",
        "\n",
        "hr_1 = calc_hr(rpeaks_1, fs)\n",
        "hr_2 = calc_hr(rpeaks_2, fs)\n",
        "\n",
        "hr_1_corrected = correct_outlier(hr_1)\n",
        "hr_2_corrected = correct_outlier(hr_2)\n",
        "\n",
        "fig, axs = plt.subplots(1, 2, figsize=(12, 6), sharey=True)\n",
        "\n",
        "axs[0].boxplot([hr_1, hr_2], tick_labels=[\"ECG 1 (Orig)\", \"ECG 2 (Orig)\"])\n",
        "axs[0].set_title(\"Original Heart Rate Distributions\")\n",
        "axs[0].set_ylabel(\"Heart Rate (bpm)\")\n",
        "axs[0].set_xlabel(\"ECG Signal\")\n",
        "\n",
        "axs[1].boxplot([hr_1_corrected, hr_2_corrected], tick_labels=[\"ECG 1 (Clean)\", \"ECG 2 (Clean)\"])\n",
        "axs[1].set_title(\"Outlier-Corrected Heart Rate Distributions\")\n",
        "axs[1].set_ylabel(\"Heart Rate (bpm)\")\n",
        "axs[1].set_xlabel(\"ECG Signal\")\n",
        "\n",
        "plt.suptitle('Heart Rate Distributions Before and After Outlier Removal')\n",
        "plt.tight_layout(rect=[0, 0, 1, 0.95])\n",
        "plt.show()"
      ]
    },
    {
      "cell_type": "code",
      "execution_count": 17,
      "id": "d1659583-e744-4c01-bd3f-e5c0bfbda196",
      "metadata": {
        "deletable": false,
        "editable": false,
        "nbgrader": {
          "cell_type": "code",
          "checksum": "6a55b2c853d926d06c93c940838769e8",
          "grade": true,
          "grade_id": "task_7_test",
          "locked": true,
          "points": 2,
          "schema_version": 3,
          "solution": false,
          "task": false
        },
        "tags": [],
        "id": "d1659583-e744-4c01-bd3f-e5c0bfbda196"
      },
      "outputs": [],
      "source": [
        "# run cell to test your implementation\n",
        "assert len(fig.axes) == 2, \"Check that you created a figure with two subplots\"\n",
        "assert len([0 for child in fig.axes[0].get_children() if type(child) == matplotlib.lines.Line2D]) > 10, \"Check that you plot a boxplot in the left subplot\"\n",
        "assert len([0 for child in fig.axes[1].get_children() if type(child) == matplotlib.lines.Line2D]) > 10, \"Check that you plot a boxplot in the right subplot\"\n",
        "assert np.all(fig.axes[0].yaxis.get_data_interval() != fig.axes[1].yaxis.get_data_interval()), \"Check that you plot both datatset (original and corrected) separately in the two subplots\"\n",
        "assert fig.axes[0].get_xticklabels()[0].get_text() != \"1\" and fig.axes[1].get_xticklabels()[0].get_text() != \"2\", \"Check that you set the labels in the left subplot\"\n",
        "assert fig.axes[1].get_xticklabels()[0].get_text() != \"1\" and fig.axes[1].get_xticklabels()[0].get_text() != \"2\", \"Check that you set the labels in the right subplot\"\n",
        "assert len(fig.axes[0].get_xlabel()) != 0 and len(fig.axes[0].get_ylabel()) != 0, \"Check the left sublot's x and y labels\"\n",
        "assert len(fig.axes[1].get_xlabel()) != 0 and len(fig.axes[1].get_ylabel()) != 0, \"Check the right subplot's x and y labels\"\n",
        "assert len(fig.axes[0].title.get_text()), \"Check the left subplot's title\"\n",
        "assert len(fig.axes[1].title.get_text()), \"Check the right subplot's title\""
      ]
    },
    {
      "cell_type": "code",
      "execution_count": 17,
      "id": "d935de0c-8d82-43e8-89e2-cbf8bae07ff0",
      "metadata": {
        "tags": [],
        "id": "d935de0c-8d82-43e8-89e2-cbf8bae07ff0"
      },
      "outputs": [],
      "source": []
    }
  ],
  "metadata": {
    "kernelspec": {
      "display_name": "Python 3",
      "name": "python3"
    },
    "language_info": {
      "name": "python"
    },
    "colab": {
      "provenance": [],
      "gpuType": "V28",
      "include_colab_link": true
    },
    "accelerator": "TPU",
    "widgets": {
      "application/vnd.jupyter.widget-state+json": {
        "7cc83abf00f34531a33d57a16f220459": {
          "model_module": "@jupyter-widgets/controls",
          "model_name": "HBoxModel",
          "model_module_version": "1.5.0",
          "state": {
            "_dom_classes": [],
            "_model_module": "@jupyter-widgets/controls",
            "_model_module_version": "1.5.0",
            "_model_name": "HBoxModel",
            "_view_count": null,
            "_view_module": "@jupyter-widgets/controls",
            "_view_module_version": "1.5.0",
            "_view_name": "HBoxView",
            "box_style": "",
            "children": [
              "IPY_MODEL_2edc060343914dfb9ef3e9db42e8ea5d",
              "IPY_MODEL_ea8eaefb91294646b3de06541a2a4c3d",
              "IPY_MODEL_1eed1d4ff38f43b4a8d18f3be4fec677"
            ],
            "layout": "IPY_MODEL_17fe67afc4d24e0a8604ca08339a8d58"
          }
        },
        "2edc060343914dfb9ef3e9db42e8ea5d": {
          "model_module": "@jupyter-widgets/controls",
          "model_name": "HTMLModel",
          "model_module_version": "1.5.0",
          "state": {
            "_dom_classes": [],
            "_model_module": "@jupyter-widgets/controls",
            "_model_module_version": "1.5.0",
            "_model_name": "HTMLModel",
            "_view_count": null,
            "_view_module": "@jupyter-widgets/controls",
            "_view_module_version": "1.5.0",
            "_view_name": "HTMLView",
            "description": "",
            "description_tooltip": null,
            "layout": "IPY_MODEL_9d9c66d616594efdab9e996ba8dc3b0e",
            "placeholder": "​",
            "style": "IPY_MODEL_2eddd83aa00a434e92f8f32e895fe2d3",
            "value": "ecg/ecg_sample_Vp01.bin: "
          }
        },
        "ea8eaefb91294646b3de06541a2a4c3d": {
          "model_module": "@jupyter-widgets/controls",
          "model_name": "FloatProgressModel",
          "model_module_version": "1.5.0",
          "state": {
            "_dom_classes": [],
            "_model_module": "@jupyter-widgets/controls",
            "_model_module_version": "1.5.0",
            "_model_name": "FloatProgressModel",
            "_view_count": null,
            "_view_module": "@jupyter-widgets/controls",
            "_view_module_version": "1.5.0",
            "_view_name": "ProgressView",
            "bar_style": "success",
            "description": "",
            "description_tooltip": null,
            "layout": "IPY_MODEL_db49312749424ac6b6da14adcbeaef62",
            "max": 1,
            "min": 0,
            "orientation": "horizontal",
            "style": "IPY_MODEL_798f70a9d1a54ef980888b5f134b551e",
            "value": 1
          }
        },
        "1eed1d4ff38f43b4a8d18f3be4fec677": {
          "model_module": "@jupyter-widgets/controls",
          "model_name": "HTMLModel",
          "model_module_version": "1.5.0",
          "state": {
            "_dom_classes": [],
            "_model_module": "@jupyter-widgets/controls",
            "_model_module_version": "1.5.0",
            "_model_name": "HTMLModel",
            "_view_count": null,
            "_view_module": "@jupyter-widgets/controls",
            "_view_module_version": "1.5.0",
            "_view_name": "HTMLView",
            "description": "",
            "description_tooltip": null,
            "layout": "IPY_MODEL_11fed4a61d304d1f91c6a43e883384a5",
            "placeholder": "​",
            "style": "IPY_MODEL_231bf287d2144420a71dca94c9b7afb4",
            "value": " 3.02M/? [00:00&lt;00:00, 43.9kB/s]"
          }
        },
        "17fe67afc4d24e0a8604ca08339a8d58": {
          "model_module": "@jupyter-widgets/base",
          "model_name": "LayoutModel",
          "model_module_version": "1.2.0",
          "state": {
            "_model_module": "@jupyter-widgets/base",
            "_model_module_version": "1.2.0",
            "_model_name": "LayoutModel",
            "_view_count": null,
            "_view_module": "@jupyter-widgets/base",
            "_view_module_version": "1.2.0",
            "_view_name": "LayoutView",
            "align_content": null,
            "align_items": null,
            "align_self": null,
            "border": null,
            "bottom": null,
            "display": null,
            "flex": null,
            "flex_flow": null,
            "grid_area": null,
            "grid_auto_columns": null,
            "grid_auto_flow": null,
            "grid_auto_rows": null,
            "grid_column": null,
            "grid_gap": null,
            "grid_row": null,
            "grid_template_areas": null,
            "grid_template_columns": null,
            "grid_template_rows": null,
            "height": null,
            "justify_content": null,
            "justify_items": null,
            "left": null,
            "margin": null,
            "max_height": null,
            "max_width": null,
            "min_height": null,
            "min_width": null,
            "object_fit": null,
            "object_position": null,
            "order": null,
            "overflow": null,
            "overflow_x": null,
            "overflow_y": null,
            "padding": null,
            "right": null,
            "top": null,
            "visibility": null,
            "width": null
          }
        },
        "9d9c66d616594efdab9e996ba8dc3b0e": {
          "model_module": "@jupyter-widgets/base",
          "model_name": "LayoutModel",
          "model_module_version": "1.2.0",
          "state": {
            "_model_module": "@jupyter-widgets/base",
            "_model_module_version": "1.2.0",
            "_model_name": "LayoutModel",
            "_view_count": null,
            "_view_module": "@jupyter-widgets/base",
            "_view_module_version": "1.2.0",
            "_view_name": "LayoutView",
            "align_content": null,
            "align_items": null,
            "align_self": null,
            "border": null,
            "bottom": null,
            "display": null,
            "flex": null,
            "flex_flow": null,
            "grid_area": null,
            "grid_auto_columns": null,
            "grid_auto_flow": null,
            "grid_auto_rows": null,
            "grid_column": null,
            "grid_gap": null,
            "grid_row": null,
            "grid_template_areas": null,
            "grid_template_columns": null,
            "grid_template_rows": null,
            "height": null,
            "justify_content": null,
            "justify_items": null,
            "left": null,
            "margin": null,
            "max_height": null,
            "max_width": null,
            "min_height": null,
            "min_width": null,
            "object_fit": null,
            "object_position": null,
            "order": null,
            "overflow": null,
            "overflow_x": null,
            "overflow_y": null,
            "padding": null,
            "right": null,
            "top": null,
            "visibility": null,
            "width": null
          }
        },
        "2eddd83aa00a434e92f8f32e895fe2d3": {
          "model_module": "@jupyter-widgets/controls",
          "model_name": "DescriptionStyleModel",
          "model_module_version": "1.5.0",
          "state": {
            "_model_module": "@jupyter-widgets/controls",
            "_model_module_version": "1.5.0",
            "_model_name": "DescriptionStyleModel",
            "_view_count": null,
            "_view_module": "@jupyter-widgets/base",
            "_view_module_version": "1.2.0",
            "_view_name": "StyleView",
            "description_width": ""
          }
        },
        "db49312749424ac6b6da14adcbeaef62": {
          "model_module": "@jupyter-widgets/base",
          "model_name": "LayoutModel",
          "model_module_version": "1.2.0",
          "state": {
            "_model_module": "@jupyter-widgets/base",
            "_model_module_version": "1.2.0",
            "_model_name": "LayoutModel",
            "_view_count": null,
            "_view_module": "@jupyter-widgets/base",
            "_view_module_version": "1.2.0",
            "_view_name": "LayoutView",
            "align_content": null,
            "align_items": null,
            "align_self": null,
            "border": null,
            "bottom": null,
            "display": null,
            "flex": null,
            "flex_flow": null,
            "grid_area": null,
            "grid_auto_columns": null,
            "grid_auto_flow": null,
            "grid_auto_rows": null,
            "grid_column": null,
            "grid_gap": null,
            "grid_row": null,
            "grid_template_areas": null,
            "grid_template_columns": null,
            "grid_template_rows": null,
            "height": null,
            "justify_content": null,
            "justify_items": null,
            "left": null,
            "margin": null,
            "max_height": null,
            "max_width": null,
            "min_height": null,
            "min_width": null,
            "object_fit": null,
            "object_position": null,
            "order": null,
            "overflow": null,
            "overflow_x": null,
            "overflow_y": null,
            "padding": null,
            "right": null,
            "top": null,
            "visibility": null,
            "width": "20px"
          }
        },
        "798f70a9d1a54ef980888b5f134b551e": {
          "model_module": "@jupyter-widgets/controls",
          "model_name": "ProgressStyleModel",
          "model_module_version": "1.5.0",
          "state": {
            "_model_module": "@jupyter-widgets/controls",
            "_model_module_version": "1.5.0",
            "_model_name": "ProgressStyleModel",
            "_view_count": null,
            "_view_module": "@jupyter-widgets/base",
            "_view_module_version": "1.2.0",
            "_view_name": "StyleView",
            "bar_color": null,
            "description_width": ""
          }
        },
        "11fed4a61d304d1f91c6a43e883384a5": {
          "model_module": "@jupyter-widgets/base",
          "model_name": "LayoutModel",
          "model_module_version": "1.2.0",
          "state": {
            "_model_module": "@jupyter-widgets/base",
            "_model_module_version": "1.2.0",
            "_model_name": "LayoutModel",
            "_view_count": null,
            "_view_module": "@jupyter-widgets/base",
            "_view_module_version": "1.2.0",
            "_view_name": "LayoutView",
            "align_content": null,
            "align_items": null,
            "align_self": null,
            "border": null,
            "bottom": null,
            "display": null,
            "flex": null,
            "flex_flow": null,
            "grid_area": null,
            "grid_auto_columns": null,
            "grid_auto_flow": null,
            "grid_auto_rows": null,
            "grid_column": null,
            "grid_gap": null,
            "grid_row": null,
            "grid_template_areas": null,
            "grid_template_columns": null,
            "grid_template_rows": null,
            "height": null,
            "justify_content": null,
            "justify_items": null,
            "left": null,
            "margin": null,
            "max_height": null,
            "max_width": null,
            "min_height": null,
            "min_width": null,
            "object_fit": null,
            "object_position": null,
            "order": null,
            "overflow": null,
            "overflow_x": null,
            "overflow_y": null,
            "padding": null,
            "right": null,
            "top": null,
            "visibility": null,
            "width": null
          }
        },
        "231bf287d2144420a71dca94c9b7afb4": {
          "model_module": "@jupyter-widgets/controls",
          "model_name": "DescriptionStyleModel",
          "model_module_version": "1.5.0",
          "state": {
            "_model_module": "@jupyter-widgets/controls",
            "_model_module_version": "1.5.0",
            "_model_name": "DescriptionStyleModel",
            "_view_count": null,
            "_view_module": "@jupyter-widgets/base",
            "_view_module_version": "1.2.0",
            "_view_name": "StyleView",
            "description_width": ""
          }
        },
        "0646b3b4ddbb4a1c898abc2312ab43da": {
          "model_module": "@jupyter-widgets/base",
          "model_name": "LayoutModel",
          "model_module_version": "1.2.0",
          "state": {
            "_model_module": "@jupyter-widgets/base",
            "_model_module_version": "1.2.0",
            "_model_name": "LayoutModel",
            "_view_count": null,
            "_view_module": "@jupyter-widgets/base",
            "_view_module_version": "1.2.0",
            "_view_name": "LayoutView",
            "align_content": null,
            "align_items": null,
            "align_self": null,
            "border": null,
            "bottom": null,
            "display": null,
            "flex": null,
            "flex_flow": null,
            "grid_area": null,
            "grid_auto_columns": null,
            "grid_auto_flow": null,
            "grid_auto_rows": null,
            "grid_column": null,
            "grid_gap": null,
            "grid_row": null,
            "grid_template_areas": null,
            "grid_template_columns": null,
            "grid_template_rows": null,
            "height": null,
            "justify_content": null,
            "justify_items": null,
            "left": null,
            "margin": null,
            "max_height": null,
            "max_width": null,
            "min_height": null,
            "min_width": null,
            "object_fit": null,
            "object_position": null,
            "order": null,
            "overflow": null,
            "overflow_x": null,
            "overflow_y": null,
            "padding": null,
            "right": null,
            "top": null,
            "visibility": null,
            "width": "20px"
          }
        },
        "d3ddb12444e445efb63ef675ee79e402": {
          "model_module": "@jupyter-widgets/controls",
          "model_name": "ProgressStyleModel",
          "model_module_version": "1.5.0",
          "state": {
            "_model_module": "@jupyter-widgets/controls",
            "_model_module_version": "1.5.0",
            "_model_name": "ProgressStyleModel",
            "_view_count": null,
            "_view_module": "@jupyter-widgets/base",
            "_view_module_version": "1.2.0",
            "_view_name": "StyleView",
            "bar_color": null,
            "description_width": ""
          }
        },
        "6fd3bdae137f4a7fa8016dc67bf80c5b": {
          "model_module": "@jupyter-widgets/base",
          "model_name": "LayoutModel",
          "model_module_version": "1.2.0",
          "state": {
            "_model_module": "@jupyter-widgets/base",
            "_model_module_version": "1.2.0",
            "_model_name": "LayoutModel",
            "_view_count": null,
            "_view_module": "@jupyter-widgets/base",
            "_view_module_version": "1.2.0",
            "_view_name": "LayoutView",
            "align_content": null,
            "align_items": null,
            "align_self": null,
            "border": null,
            "bottom": null,
            "display": null,
            "flex": null,
            "flex_flow": null,
            "grid_area": null,
            "grid_auto_columns": null,
            "grid_auto_flow": null,
            "grid_auto_rows": null,
            "grid_column": null,
            "grid_gap": null,
            "grid_row": null,
            "grid_template_areas": null,
            "grid_template_columns": null,
            "grid_template_rows": null,
            "height": null,
            "justify_content": null,
            "justify_items": null,
            "left": null,
            "margin": null,
            "max_height": null,
            "max_width": null,
            "min_height": null,
            "min_width": null,
            "object_fit": null,
            "object_position": null,
            "order": null,
            "overflow": null,
            "overflow_x": null,
            "overflow_y": null,
            "padding": null,
            "right": null,
            "top": null,
            "visibility": null,
            "width": null
          }
        },
        "7bedf687535740df8d28738d3799d970": {
          "model_module": "@jupyter-widgets/controls",
          "model_name": "DescriptionStyleModel",
          "model_module_version": "1.5.0",
          "state": {
            "_model_module": "@jupyter-widgets/controls",
            "_model_module_version": "1.5.0",
            "_model_name": "DescriptionStyleModel",
            "_view_count": null,
            "_view_module": "@jupyter-widgets/base",
            "_view_module_version": "1.2.0",
            "_view_name": "StyleView",
            "description_width": ""
          }
        },
        "03022eb5af5643e59015210302ebc9a9": {
          "model_module": "@jupyter-widgets/base",
          "model_name": "LayoutModel",
          "model_module_version": "1.2.0",
          "state": {
            "_model_module": "@jupyter-widgets/base",
            "_model_module_version": "1.2.0",
            "_model_name": "LayoutModel",
            "_view_count": null,
            "_view_module": "@jupyter-widgets/base",
            "_view_module_version": "1.2.0",
            "_view_name": "LayoutView",
            "align_content": null,
            "align_items": null,
            "align_self": null,
            "border": null,
            "bottom": null,
            "display": null,
            "flex": null,
            "flex_flow": null,
            "grid_area": null,
            "grid_auto_columns": null,
            "grid_auto_flow": null,
            "grid_auto_rows": null,
            "grid_column": null,
            "grid_gap": null,
            "grid_row": null,
            "grid_template_areas": null,
            "grid_template_columns": null,
            "grid_template_rows": null,
            "height": null,
            "justify_content": null,
            "justify_items": null,
            "left": null,
            "margin": null,
            "max_height": null,
            "max_width": null,
            "min_height": null,
            "min_width": null,
            "object_fit": null,
            "object_position": null,
            "order": null,
            "overflow": null,
            "overflow_x": null,
            "overflow_y": null,
            "padding": null,
            "right": null,
            "top": null,
            "visibility": null,
            "width": null
          }
        },
        "da5509d2894a45fab002e1b70af70ec2": {
          "model_module": "@jupyter-widgets/controls",
          "model_name": "DescriptionStyleModel",
          "model_module_version": "1.5.0",
          "state": {
            "_model_module": "@jupyter-widgets/controls",
            "_model_module_version": "1.5.0",
            "_model_name": "DescriptionStyleModel",
            "_view_count": null,
            "_view_module": "@jupyter-widgets/base",
            "_view_module_version": "1.2.0",
            "_view_name": "StyleView",
            "description_width": ""
          }
        },
        "4f61cf1187514c7ca536a940a2ade999": {
          "model_module": "@jupyter-widgets/controls",
          "model_name": "HTMLModel",
          "model_module_version": "1.5.0",
          "state": {
            "_dom_classes": [],
            "_model_module": "@jupyter-widgets/controls",
            "_model_module_version": "1.5.0",
            "_model_name": "HTMLModel",
            "_view_count": null,
            "_view_module": "@jupyter-widgets/controls",
            "_view_module_version": "1.5.0",
            "_view_name": "HTMLView",
            "description": "",
            "description_tooltip": null,
            "layout": "IPY_MODEL_6fd3bdae137f4a7fa8016dc67bf80c5b",
            "placeholder": "​",
            "style": "IPY_MODEL_7bedf687535740df8d28738d3799d970",
            "value": "ecg/ecg_sample_Vp02.bin: "
          }
        },
        "e5d29bc937304f7ebc2e28f1b6eb4086": {
          "model_module": "@jupyter-widgets/controls",
          "model_name": "FloatProgressModel",
          "model_module_version": "1.5.0",
          "state": {
            "_dom_classes": [],
            "_model_module": "@jupyter-widgets/controls",
            "_model_module_version": "1.5.0",
            "_model_name": "FloatProgressModel",
            "_view_count": null,
            "_view_module": "@jupyter-widgets/controls",
            "_view_module_version": "1.5.0",
            "_view_name": "ProgressView",
            "bar_style": "success",
            "description": "",
            "description_tooltip": null,
            "layout": "IPY_MODEL_0646b3b4ddbb4a1c898abc2312ab43da",
            "max": 1,
            "min": 0,
            "orientation": "horizontal",
            "style": "IPY_MODEL_d3ddb12444e445efb63ef675ee79e402",
            "value": 1
          }
        },
        "eee78b4d737c4e8a977d094624f17bd6": {
          "model_module": "@jupyter-widgets/controls",
          "model_name": "HTMLModel",
          "model_module_version": "1.5.0",
          "state": {
            "_dom_classes": [],
            "_model_module": "@jupyter-widgets/controls",
            "_model_module_version": "1.5.0",
            "_model_name": "HTMLModel",
            "_view_count": null,
            "_view_module": "@jupyter-widgets/controls",
            "_view_module_version": "1.5.0",
            "_view_name": "HTMLView",
            "description": "",
            "description_tooltip": null,
            "layout": "IPY_MODEL_03022eb5af5643e59015210302ebc9a9",
            "placeholder": "​",
            "style": "IPY_MODEL_da5509d2894a45fab002e1b70af70ec2",
            "value": " 2.30M/? [00:00&lt;00:00, 31.7kB/s]"
          }
        },
        "c10bb826696044f99acfd81f0c8792ac": {
          "model_module": "@jupyter-widgets/base",
          "model_name": "LayoutModel",
          "model_module_version": "1.2.0",
          "state": {
            "_model_module": "@jupyter-widgets/base",
            "_model_module_version": "1.2.0",
            "_model_name": "LayoutModel",
            "_view_count": null,
            "_view_module": "@jupyter-widgets/base",
            "_view_module_version": "1.2.0",
            "_view_name": "LayoutView",
            "align_content": null,
            "align_items": null,
            "align_self": null,
            "border": null,
            "bottom": null,
            "display": null,
            "flex": null,
            "flex_flow": null,
            "grid_area": null,
            "grid_auto_columns": null,
            "grid_auto_flow": null,
            "grid_auto_rows": null,
            "grid_column": null,
            "grid_gap": null,
            "grid_row": null,
            "grid_template_areas": null,
            "grid_template_columns": null,
            "grid_template_rows": null,
            "height": null,
            "justify_content": null,
            "justify_items": null,
            "left": null,
            "margin": null,
            "max_height": null,
            "max_width": null,
            "min_height": null,
            "min_width": null,
            "object_fit": null,
            "object_position": null,
            "order": null,
            "overflow": null,
            "overflow_x": null,
            "overflow_y": null,
            "padding": null,
            "right": null,
            "top": null,
            "visibility": null,
            "width": null
          }
        },
        "3a8c8a81b17e443e8cadd357caedb522": {
          "model_module": "@jupyter-widgets/controls",
          "model_name": "HBoxModel",
          "model_module_version": "1.5.0",
          "state": {
            "_dom_classes": [],
            "_model_module": "@jupyter-widgets/controls",
            "_model_module_version": "1.5.0",
            "_model_name": "HBoxModel",
            "_view_count": null,
            "_view_module": "@jupyter-widgets/controls",
            "_view_module_version": "1.5.0",
            "_view_name": "HBoxView",
            "box_style": "",
            "children": [
              "IPY_MODEL_4f61cf1187514c7ca536a940a2ade999",
              "IPY_MODEL_e5d29bc937304f7ebc2e28f1b6eb4086",
              "IPY_MODEL_eee78b4d737c4e8a977d094624f17bd6"
            ],
            "layout": "IPY_MODEL_c10bb826696044f99acfd81f0c8792ac"
          }
        }
      }
    }
  },
  "nbformat": 4,
  "nbformat_minor": 5
}